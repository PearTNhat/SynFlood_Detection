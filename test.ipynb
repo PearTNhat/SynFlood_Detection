{
 "cells": [
  {
   "cell_type": "code",
   "execution_count": 4,
   "metadata": {},
   "outputs": [
    {
     "name": "stdout",
     "output_type": "stream",
     "text": [
      "\\Device\\NPF_{27D30B9A-5D62-4F07-A976-4D894D7E4C42}: 00:00:00:00:00:00\n",
      "\\Device\\NPF_{06485A0B-9004-43AF-918F-96402B79C795}: 00:00:00:00:00:00\n",
      "\\Device\\NPF_{9A03D1EB-455D-4EB3-B932-23ACAB8AD1DF}: 00:00:00:00:00:00\n",
      "\\Device\\NPF_{8EAB0066-D9E7-4A8D-B954-5F121D06EE5A}: 6c:f6:da:89:7e:38\n",
      "\\Device\\NPF_{5E258268-224B-4EBE-9260-AE3E49E9D1E1}: 6c:f6:da:89:7e:34\n",
      "\\Device\\NPF_{EFAB50B0-F73A-478F-8BB5-5D1528195758}: 6e:f6:da:89:7e:34\n",
      "\\Device\\NPF_{7764B3B4-0FF8-4101-A0FC-C05BA48D40AE}: 6c:f6:da:89:7e:35\n",
      "\\Device\\NPF_{CC666114-7A46-49B3-85E1-4D5652B8AB75}: 0a:00:27:00:00:12\n",
      "\\Device\\NPF_{0A8038A8-1878-4982-9F44-AD419D073C49}: 02:50:77:b3:20:b5\n",
      "\\Device\\NPF_Loopback: 00:00:00:00:00:00\n",
      "\\Device\\NPF_{4404BAC5-4B05-4992-83F7-34B804D5496A}: 40:c2:ba:44:8f:49\n"
     ]
    }
   ],
   "source": [
    "from scapy.all import get_if_list, get_if_hwaddr\n",
    "interfaces = get_if_list()\n",
    "for iface in interfaces:\n",
    "    try:\n",
    "        hw_addr = get_if_hwaddr(iface)\n",
    "        print(f\"{iface}: {hw_addr}\")\n",
    "    except:\n",
    "        print(f\"{iface}: Không lấy được địa chỉ MAC\")\n"
   ]
  },
  {
   "cell_type": "code",
   "execution_count": 3,
   "metadata": {},
   "outputs": [
    {
     "name": "stdout",
     "output_type": "stream",
     "text": [
      "1.4.2\n"
     ]
    }
   ],
   "source": [
    "import joblib\n",
    "print(joblib.__version__)\n"
   ]
  },
  {
   "cell_type": "code",
   "execution_count": 1,
   "metadata": {},
   "outputs": [
    {
     "name": "stdout",
     "output_type": "stream",
     "text": [
      "1.4.2\n"
     ]
    }
   ],
   "source": [
    "import sklearn\n",
    "print(sklearn.__version__)"
   ]
  },
  {
   "cell_type": "code",
   "execution_count": 4,
   "metadata": {},
   "outputs": [
    {
     "name": "stdout",
     "output_type": "stream",
     "text": [
      "ts, IP_src, IP_dst, pck_size, IP_flags, IP_Z, IP_MF, IP_DF, TCP_dataofs, TCP_FIN, TCP_SYN, TCP_RST, TCP_PSH, TCP_ACK, TCP_URG, TCP_ECE, TCP_CWR, TCP_window, sport_class, sport_bare, dport_bare, TCP_sport, TCP_dport, UDP_sport, UDP_dport\n"
     ]
    }
   ],
   "source": [
    "line=[\"ts\", \n",
    "    \"IP_src\",\n",
    "    \"IP_dst\",\n",
    "    \"pck_size\",\n",
    "    \"IP_flags\",#\n",
    "    \"IP_Z\",\n",
    "    \"IP_MF\",\n",
    "    \"IP_DF\"  ,#\n",
    "    \"TCP_dataofs\",#\n",
    "    \"TCP_FIN\",\n",
    "    \"TCP_SYN\",#\n",
    "    \"TCP_RST\",\n",
    "    \"TCP_PSH\",\n",
    "    \"TCP_ACK\",#\n",
    "    \"TCP_URG\",\n",
    "    \"TCP_ECE\",\n",
    "    \"TCP_CWR\"   ,\n",
    "    \"TCP_window\",\n",
    "    \"sport_class\",\n",
    "    \"sport_bare\",\n",
    "    \"dport_bare\",\n",
    "    \"TCP_sport\",\n",
    "    \"TCP_dport\",\n",
    "    \"UDP_sport\",\n",
    "    \"UDP_dport\"\n",
    "            ]\n",
    "\n",
    "# Chuyển mảng thành chuỗi, các phần tử cách nhau bằng dấu phẩy\n",
    "line_str = \", \".join(line)\n",
    "\n",
    "# In ra kết quả\n",
    "print(line_str)\n"
   ]
  },
  {
   "cell_type": "code",
   "execution_count": 6,
   "metadata": {},
   "outputs": [],
   "source": [
    "import os\n",
    "def find_the_way(path,file_format,con=\"\"):\n",
    "    files_add = []\n",
    "    # r=root, d=directories, f = files\n",
    "    for r, d, f in os.walk(path):\n",
    "        for file in f:\n",
    "            if file_format in file:\n",
    "                if con in file:\n",
    "                    files_add.append(os.path.join(r, file))  \n",
    "    return files_add"
   ]
  },
  {
   "cell_type": "code",
   "execution_count": 9,
   "metadata": {},
   "outputs": [],
   "source": [
    "files_sw=find_the_way('./SW','_SW.csv')\n",
    "for i in files_sw:\n",
    "    os.rename(i,i.replace(\"./SW\",'./historySW'))"
   ]
  },
  {
   "cell_type": "code",
   "execution_count": null,
   "metadata": {},
   "outputs": [],
   "source": [
    "['ts','IP_src','IP_dst','pck_size','IP_version','IP_ihl','IP_tos','IP_len','IP_flags','IP_Z','IP_MF','IP_id','IP_chksum','IP_DF','IP_frag','IP_ttl','IP_proto','IP_options','TCP_seq','TCP_ack','TCP_dataofs','TCP_reserved','TCP_flags','TCP_FIN','TCP_SYN','TCP_RST','TCP_PSH','TCP_ACK','TCP_URG','TCP_ECE','TCP_CWR','TCP_window','TCP_chksum','TCP_urgptr','TCP_options','TCP_sport','TCP_dport']"
   ]
  }
 ],
 "metadata": {
  "kernelspec": {
   "display_name": "base",
   "language": "python",
   "name": "python3"
  },
  "language_info": {
   "codemirror_mode": {
    "name": "ipython",
    "version": 3
   },
   "file_extension": ".py",
   "mimetype": "text/x-python",
   "name": "python",
   "nbconvert_exporter": "python",
   "pygments_lexer": "ipython3",
   "version": "3.12.3"
  }
 },
 "nbformat": 4,
 "nbformat_minor": 2
}
